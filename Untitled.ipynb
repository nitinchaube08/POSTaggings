{
 "cells": [
  {
   "cell_type": "code",
   "execution_count": 1,
   "id": "86887c24-c3f6-4ba5-9b68-2e1bab456445",
   "metadata": {},
   "outputs": [],
   "source": [
    "import numpy as np\n",
    "import pandas as pd\n",
    "import matplotlib.pyplot as plt\n",
    "%matplotlib inline\n",
    "import seaborn as sns\n",
    "from sklearn.metrics import *"
   ]
  },
  {
   "cell_type": "code",
   "execution_count": 3,
   "id": "787dd26f-b460-4411-90ef-21c4e51861e8",
   "metadata": {},
   "outputs": [],
   "source": [
    "import nltk"
   ]
  },
  {
   "cell_type": "code",
   "execution_count": 71,
   "id": "e1d00ee6-2fcd-49b4-89b8-2f9cba80bb18",
   "metadata": {},
   "outputs": [],
   "source": [
    "# Lexical rules for direct word-to-POS mapping\n",
    "LEXICAL_RULES = {\n",
    "    \"the\": \"DT\",\n",
    "    \"a\": \"DT\",\n",
    "    \"an\": \"DT\",\n",
    "    \"and\": \"CC\",\n",
    "    \"but\": \"CC\",\n",
    "    \"he\": \"PRP\",\n",
    "    \"she\": \"PRP\",\n",
    "    \"it\": \"PRP\",\n",
    "    \"they\": \"PRP\",\n",
    "    \"is\": \"VBZ\",\n",
    "    \"are\": \"VBP\",\n",
    "    \"was\": \"VBD\",\n",
    "    \"were\": \"VBD\",\n",
    "    \"run\": \"VB\",\n",
    "    \"runs\": \"VBZ\",\n",
    "    \"running\": \"VBG\",\n",
    "    \"ran\": \"VBD\",\n",
    "    \"walk\": \"VB\",\n",
    "    \"walking\": \"VBG\",\n",
    "    \"walked\": \"VBD\"\n",
    "}\n",
    "\n",
    "# Suffix rules for pattern-based tagging\n",
    "SUFFIX_RULES = {\n",
    "    \"ing\": \"VBG\",  # Gerund or Present Participle\n",
    "    \"ed\": \"VBD\",   # Past Tense\n",
    "    \"ly\": \"RB\",    # Adverb\n",
    "    \"ion\": \"NN\",   # Noun\n",
    "    \"s\": \"NNS\"     # Plural Noun\n",
    "}\n",
    "\n",
    "# Punctuation rules\n",
    "PUNCTUATION_RULES = {\n",
    "    \".\": \"PUNCT\",\n",
    "    \"?\": \"PUNCT-Q\",\n",
    "    \"!\": \"PUNCT-E\",\n",
    "    \",\": \"PUNCT-C\",\n",
    "    \":\": \"PUNCT-S\",\n",
    "    \";\": \"PUNCT-S\",\n",
    "    \"\\\"\": \"PUNCT-QT\",\n",
    "    \"'\": \"PUNCT-QT\",\n",
    "    \"(\": \"PUNCT-P\",\n",
    "    \")\": \"PUNCT-P\"\n",
    "}\n"
   ]
  },
  {
   "cell_type": "code",
   "execution_count": 73,
   "id": "b495b0fb-78f6-464a-8fdb-a552aa377359",
   "metadata": {},
   "outputs": [],
   "source": [
    "def pos_tagging(text):\n",
    "    tags=[]\n",
    "    tokens = text.split()\n",
    "    print(tokens)\n",
    "    for i,word in enumerate(tokens):\n",
    "        print(word)\n",
    "        lower_word = word.lower()\n",
    "\n",
    "        if word in PUNCTUATION_RULES:\n",
    "            tags.append((word, PUNCTUATION_RULES[word]))\n",
    "            continue\n",
    "        \n",
    "        #Rule1: Lexical lookup\n",
    "        if lower_word in LEXICAL_RULES:\n",
    "            tags.append((word, LEXICAL_RULES[lower_word]))\n",
    "            continue\n",
    "\n",
    "        #Rule2: Suffix based \n",
    "        mached_suffix=False\n",
    "        for suffix, tag in SUFFIX_RULES.items():\n",
    "            if lower_word.endswith(suffix):\n",
    "                tags.append((word, tag))\n",
    "                mached_suffix=True\n",
    "                break\n",
    "        if mached_suffix:\n",
    "            continue\n",
    "\n",
    "        #Rule3: Propernoun\n",
    "        if word[0].isupper() and i>0:\n",
    "            tags.append((word, \"NNP\"))\n",
    "            continue\n",
    "            \n",
    "        #Rule4: Default to noun    \n",
    "        tags.append((word, \"NN\"))\n",
    "        \n",
    "        #Rule5: Context awareness tagging\n",
    "        if i>0:\n",
    "            \n",
    "            prev_word, prev_tag = tags[i-1]\n",
    "            #adjective and determiner followed by noun\n",
    "            if prev_tag in [\"DET\",\"JJ\"] and len(lower_word)>3:\n",
    "                tags[-1]=(word,\"NN\")\n",
    "            \n",
    "\n",
    "            \n",
    "    return tags\n",
    "            \n",
    "        \n",
    "        "
   ]
  },
  {
   "cell_type": "code",
   "execution_count": 106,
   "id": "f2d4afb3-6897-4f69-a44f-836c1cce5933",
   "metadata": {},
   "outputs": [
    {
     "name": "stdout",
     "output_type": "stream",
     "text": [
      "['The', 'boy', 'was', 'running', 'somewhere', 'with', 'the', 'stick', 'in', 'hand', 'but', 'Nitin', 'did', 'not', 'do', 'it.', 'He', 'went', 'aside', \".'\"]\n",
      "The\n",
      "boy\n",
      "was\n",
      "running\n",
      "somewhere\n",
      "with\n",
      "the\n",
      "stick\n",
      "in\n",
      "hand\n",
      "but\n",
      "Nitin\n",
      "did\n",
      "not\n",
      "do\n",
      "it.\n",
      "He\n",
      "went\n",
      "aside\n",
      ".'\n"
     ]
    }
   ],
   "source": [
    "tagged_text=pos_tagging(\"The boy was running somewhere with the stick in hand but Nitin did not do it. He went aside .'\")"
   ]
  },
  {
   "cell_type": "code",
   "execution_count": 108,
   "id": "7f01a4ec-9104-4f46-bdfb-cce4e81d4c3d",
   "metadata": {},
   "outputs": [],
   "source": [
    "def check_grammar(tagged_text):\n",
    "    \"\"\"\n",
    "    Perform detailed grammar checking based on POS tagging rules, including punctuation.\n",
    "    \"\"\"\n",
    "    errors = []\n",
    "    words = [word for word, tag in tagged_text]\n",
    "\n",
    "    # Rule 1: Sentence must end with valid punctuation\n",
    "    if words[-1] not in [\".\", \"!\", \"?\"]:\n",
    "        errors.append(\"Sentence does not end with valid punctuation.\")\n",
    "\n",
    "    # Rule 2: Unbalanced punctuation (parentheses, quotes, etc.)\n",
    "    stack = []\n",
    "    matching_pairs = {\"(\": \")\", \"[\": \"]\", \"{\": \"}\", \"\\\"\": \"\\\"\", \"'\": \"'\"}\n",
    "    for word in words:\n",
    "        if word in matching_pairs.keys():  # Opening punctuation\n",
    "            stack.append(word)\n",
    "        elif word in matching_pairs.values():  # Closing punctuation\n",
    "            if not stack or matching_pairs[stack.pop()] != word:\n",
    "                errors.append(f\"Unbalanced punctuation detected: '{word}'\")\n",
    "\n",
    "    # Rule 3: Commas in lists or clauses\n",
    "    for i, (word, tag) in enumerate(tagged_text):\n",
    "        if word == \",\" and (i == 0 or tagged_text[i - 1][1] == \"PUNCT\"):\n",
    "            errors.append(\"Comma misused or incorrectly placed.\")\n",
    "\n",
    "    return errors\n"
   ]
  },
  {
   "cell_type": "code",
   "execution_count": 110,
   "id": "d1ebb938-0f72-4d01-8b1b-641f75c8362c",
   "metadata": {},
   "outputs": [
    {
     "data": {
      "text/plain": [
       "['Sentence does not end with valid punctuation.']"
      ]
     },
     "execution_count": 110,
     "metadata": {},
     "output_type": "execute_result"
    }
   ],
   "source": [
    "check_grammar(tagged_text)"
   ]
  },
  {
   "cell_type": "code",
   "execution_count": null,
   "id": "75f47ecd-9bd1-40f0-b3f2-3112e00bce7b",
   "metadata": {},
   "outputs": [],
   "source": []
  },
  {
   "cell_type": "code",
   "execution_count": null,
   "id": "57759d2c-723b-4592-9b44-7567109ce98f",
   "metadata": {},
   "outputs": [],
   "source": []
  }
 ],
 "metadata": {
  "kernelspec": {
   "display_name": "Python [conda env:base] *",
   "language": "python",
   "name": "conda-base-py"
  },
  "language_info": {
   "codemirror_mode": {
    "name": "ipython",
    "version": 3
   },
   "file_extension": ".py",
   "mimetype": "text/x-python",
   "name": "python",
   "nbconvert_exporter": "python",
   "pygments_lexer": "ipython3",
   "version": "3.12.7"
  }
 },
 "nbformat": 4,
 "nbformat_minor": 5
}
